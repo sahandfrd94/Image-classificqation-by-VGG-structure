{
  "nbformat": 4,
  "nbformat_minor": 0,
  "metadata": {
    "colab": {
      "provenance": [],
      "gpuType": "T4",
      "authorship_tag": "ABX9TyMWHz3pMZRdRD1PlucUwMYA",
      "include_colab_link": true
    },
    "kernelspec": {
      "name": "python3",
      "display_name": "Python 3"
    },
    "language_info": {
      "name": "python"
    },
    "accelerator": "GPU"
  },
  "cells": [
    {
      "cell_type": "markdown",
      "metadata": {
        "id": "view-in-github",
        "colab_type": "text"
      },
      "source": [
        "<a href=\"https://colab.research.google.com/github/sahandfrd94/Image-classificqation-by-VGG-structure/blob/main/image_classification_by_VGG_structure_.ipynb\" target=\"_parent\"><img src=\"https://colab.research.google.com/assets/colab-badge.svg\" alt=\"Open In Colab\"/></a>"
      ]
    },
    {
      "cell_type": "markdown",
      "source": [
        "#Import dataset"
      ],
      "metadata": {
        "id": "2qPSCYKsA8LG"
      }
    },
    {
      "cell_type": "code",
      "execution_count": 2,
      "metadata": {
        "id": "d82f67cvbh2e"
      },
      "outputs": [],
      "source": [
        "from keras.datasets import cifar10\n",
        "import numpy as np"
      ]
    },
    {
      "cell_type": "code",
      "source": [
        "(x_train,y_train) , (x_val , y_val) = cifar10.load_data()"
      ],
      "metadata": {
        "colab": {
          "base_uri": "https://localhost:8080/"
        },
        "id": "Q1_ygNWNBAx4",
        "outputId": "2298134c-6843-494c-e7a5-a60ec12a3c51"
      },
      "execution_count": 3,
      "outputs": [
        {
          "output_type": "stream",
          "name": "stdout",
          "text": [
            "Downloading data from https://www.cs.toronto.edu/~kriz/cifar-10-python.tar.gz\n",
            "170498071/170498071 [==============================] - 6s 0us/step\n"
          ]
        }
      ]
    },
    {
      "cell_type": "markdown",
      "source": [
        "# Scan dataset"
      ],
      "metadata": {
        "id": "NAGbmtaHC3qk"
      }
    },
    {
      "cell_type": "code",
      "source": [
        "print(x_train.shape)\n",
        "print(y_train.shape)\n",
        "print(x_val.shape)\n",
        "print(y_val.shape)"
      ],
      "metadata": {
        "colab": {
          "base_uri": "https://localhost:8080/"
        },
        "id": "6JQnMPLtBV-y",
        "outputId": "e29be2cc-9fc4-4a1b-ad7b-269e0eb80ad0"
      },
      "execution_count": 4,
      "outputs": [
        {
          "output_type": "stream",
          "name": "stdout",
          "text": [
            "(50000, 32, 32, 3)\n",
            "(50000, 1)\n",
            "(10000, 32, 32, 3)\n",
            "(10000, 1)\n"
          ]
        }
      ]
    },
    {
      "cell_type": "code",
      "source": [
        "classes=['airplane', 'automobile', 'bird', 'cat', 'deer', 'dog', 'frog', 'horse', 'ship', 'truck']\n",
        "import matplotlib.pyplot as plt\n",
        "plt.imshow(x_train[23456])\n",
        "label = y_train[23456]\n",
        "print(classes[label[0]])"
      ],
      "metadata": {
        "colab": {
          "base_uri": "https://localhost:8080/",
          "height": 447
        },
        "id": "IQh_qrdrBzoE",
        "outputId": "c24cbf0a-4e1a-4897-b64d-a28d1025ba02"
      },
      "execution_count": 5,
      "outputs": [
        {
          "output_type": "stream",
          "name": "stdout",
          "text": [
            "horse\n"
          ]
        },
        {
          "output_type": "display_data",
          "data": {
            "text/plain": [
              "<Figure size 640x480 with 1 Axes>"
            ],
            "image/png": "[encoded data removed]"
          },
          "metadata": {}
        }
      ]
    },
    {
      "cell_type": "markdown",
      "source": [
        "#preprocessing"
      ],
      "metadata": {
        "id": "zWJF3GcbDcmA"
      }
    },
    {
      "cell_type": "code",
      "source": [
        "x_train = x_train/255\n",
        "x_val = x_val/255"
      ],
      "metadata": {
        "id": "Tefo2rneBajf"
      },
      "execution_count": 6,
      "outputs": []
    },
    {
      "cell_type": "code",
      "source": [
        "from keras.utils import to_categorical\n",
        "y_train = to_categorical(y_train)\n",
        "y_val = to_categorical(y_val)"
      ],
      "metadata": {
        "id": "f20U9VnxEMsp"
      },
      "execution_count": 7,
      "outputs": []
    },
    {
      "cell_type": "markdown",
      "source": [
        "#Create VGG stracture"
      ],
      "metadata": {
        "id": "7iDwaKNQEuz1"
      }
    },
    {
      "cell_type": "code",
      "source": [
        "from keras.models import Sequential\n",
        "from keras.layers import Dense,Conv2D,Dropout,MaxPool2D,Flatten"
      ],
      "metadata": {
        "id": "_1mKc4DuE3NP"
      },
      "execution_count": 8,
      "outputs": []
    },
    {
      "cell_type": "code",
      "source": [
        "vgg = Sequential()\n",
        "vgg.add(Conv2D(32 , (3,3) , activation = 'relu' , input_shape=(32, 32, 3),padding = 'same' , kernel_initializer= 'he_uniform'))\n",
        "vgg.add(Conv2D(32 , (3,3),activation = 'relu' , padding = 'same' , kernel_initializer = 'he_uniform'))\n",
        "vgg.add(MaxPool2D())\n",
        "vgg.add(Dropout(0.2))\n",
        "\n",
        "vgg.add(Conv2D(64 , (3,3) , activation='relu' , padding = 'same', kernel_initializer = 'he_uniform'))\n",
        "vgg.add(Conv2D(64 , (3,3) , activation='relu' , padding = 'same', kernel_initializer = 'he_uniform'))\n",
        "vgg.add(MaxPool2D())\n",
        "vgg.add(Dropout(0.2))\n",
        "\n",
        "vgg.add(Conv2D(128 , (3,3) , activation='relu' , padding = 'same', kernel_initializer = 'he_uniform'))\n",
        "vgg.add(Conv2D(128 , (3,3) , activation='relu' , padding = 'same', kernel_initializer = 'he_uniform'))\n",
        "vgg.add(MaxPool2D())\n",
        "vgg.add(Dropout(0.2))\n",
        "\n",
        "vgg.add(Flatten())\n",
        "vgg.add(Dense(128 , 'relu'))\n",
        "vgg.add(Dense(10 , 'softmax'))"
      ],
      "metadata": {
        "id": "UNAkm4S_Gdqk"
      },
      "execution_count": 9,
      "outputs": []
    },
    {
      "cell_type": "code",
      "source": [
        "vgg.compile(\n",
        "    optimizer ='adam',\n",
        "    metrics = ['accuracy'],\n",
        "    loss = 'categorical_crossentropy'\n",
        ")"
      ],
      "metadata": {
        "id": "_wNr186CJTpf"
      },
      "execution_count": 10,
      "outputs": []
    },
    {
      "cell_type": "code",
      "source": [
        "vgg.summary()"
      ],
      "metadata": {
        "colab": {
          "base_uri": "https://localhost:8080/"
        },
        "id": "Hs7RAiIsJ7qU",
        "outputId": "ca4a8a3d-2aac-45e5-f93a-9e987d19f9c8"
      },
      "execution_count": 11,
      "outputs": [
        {
          "output_type": "stream",
          "name": "stdout",
          "text": [
            "Model: \"sequential\"\n",
            "_________________________________________________________________\n",
            " Layer (type)                Output Shape              Param #   \n",
            "=================================================================\n",
            " conv2d (Conv2D)             (None, 32, 32, 32)        896       \n",
            "                                                                 \n",
            " conv2d_1 (Conv2D)           (None, 32, 32, 32)        9248      \n",
            "                                                                 \n",
            " max_pooling2d (MaxPooling2  (None, 16, 16, 32)        0         \n",
            " D)                                                              \n",
            "                                                                 \n",
            " dropout (Dropout)           (None, 16, 16, 32)        0         \n",
            "                                                                 \n",
            " conv2d_2 (Conv2D)           (None, 16, 16, 64)        18496     \n",
            "                                                                 \n",
            " conv2d_3 (Conv2D)           (None, 16, 16, 64)        36928     \n",
            "                                                                 \n",
            " max_pooling2d_1 (MaxPoolin  (None, 8, 8, 64)          0         \n",
            " g2D)                                                            \n",
            "                                                                 \n",
            " dropout_1 (Dropout)         (None, 8, 8, 64)          0         \n",
            "                                                                 \n",
            " conv2d_4 (Conv2D)           (None, 8, 8, 128)         73856     \n",
            "                                                                 \n",
            " conv2d_5 (Conv2D)           (None, 8, 8, 128)         147584    \n",
            "                                                                 \n",
            " max_pooling2d_2 (MaxPoolin  (None, 4, 4, 128)         0         \n",
            " g2D)                                                            \n",
            "                                                                 \n",
            " dropout_2 (Dropout)         (None, 4, 4, 128)         0         \n",
            "                                                                 \n",
            " flatten (Flatten)           (None, 2048)              0         \n",
            "                                                                 \n",
            " dense (Dense)               (None, 128)               262272    \n",
            "                                                                 \n",
            " dense_1 (Dense)             (None, 10)                1290      \n",
            "                                                                 \n",
            "=================================================================\n",
            "Total params: 550570 (2.10 MB)\n",
            "Trainable params: 550570 (2.10 MB)\n",
            "Non-trainable params: 0 (0.00 Byte)\n",
            "_________________________________________________________________\n"
          ]
        }
      ]
    },
    {
      "cell_type": "code",
      "source": [
        "train = vgg.fit(\n",
        "    x_train,y_train,\n",
        "    epochs =50,\n",
        "    batch_size = 128,\n",
        "    verbose = 1,\n",
        "    validation_data = (x_val , y_val)\n",
        "\n",
        ")"
      ],
      "metadata": {
        "colab": {
          "base_uri": "https://localhost:8080/"
        },
        "id": "sax5QxY-Jm7F",
        "outputId": "eb058ccc-b39c-4a31-8c42-6d07797d0f36"
      },
      "execution_count": 12,
      "outputs": [
        {
          "output_type": "stream",
          "name": "stdout",
          "text": [
            "Epoch 1/50\n",
            "391/391 [==============================] - 15s 20ms/step - loss: 1.7409 - accuracy: 0.3588 - val_loss: 1.3330 - val_accuracy: 0.5157\n",
            "Epoch 2/50\n",
            "391/391 [==============================] - 6s 16ms/step - loss: 1.2275 - accuracy: 0.5585 - val_loss: 1.0028 - val_accuracy: 0.6497\n",
            "Epoch 3/50\n",
            "391/391 [==============================] - 6s 15ms/step - loss: 0.9771 - accuracy: 0.6549 - val_loss: 0.8489 - val_accuracy: 0.7068\n",
            "Epoch 4/50\n",
            "391/391 [==============================] - 6s 16ms/step - loss: 0.8312 - accuracy: 0.7071 - val_loss: 0.7958 - val_accuracy: 0.7272\n",
            "Epoch 5/50\n",
            "391/391 [==============================] - 6s 15ms/step - loss: 0.7401 - accuracy: 0.7386 - val_loss: 0.7182 - val_accuracy: 0.7540\n",
            "Epoch 6/50\n",
            "391/391 [==============================] - 6s 16ms/step - loss: 0.6678 - accuracy: 0.7670 - val_loss: 0.6707 - val_accuracy: 0.7723\n",
            "Epoch 7/50\n",
            "391/391 [==============================] - 6s 16ms/step - loss: 0.6098 - accuracy: 0.7856 - val_loss: 0.6376 - val_accuracy: 0.7894\n",
            "Epoch 8/50\n",
            "391/391 [==============================] - 6s 15ms/step - loss: 0.5670 - accuracy: 0.8015 - val_loss: 0.6334 - val_accuracy: 0.7833\n",
            "Epoch 9/50\n",
            "391/391 [==============================] - 6s 15ms/step - loss: 0.5304 - accuracy: 0.8122 - val_loss: 0.6099 - val_accuracy: 0.7932\n",
            "Epoch 10/50\n",
            "391/391 [==============================] - 6s 15ms/step - loss: 0.4839 - accuracy: 0.8295 - val_loss: 0.5916 - val_accuracy: 0.8058\n",
            "Epoch 11/50\n",
            "391/391 [==============================] - 6s 16ms/step - loss: 0.4571 - accuracy: 0.8388 - val_loss: 0.5938 - val_accuracy: 0.8024\n",
            "Epoch 12/50\n",
            "391/391 [==============================] - 6s 15ms/step - loss: 0.4340 - accuracy: 0.8452 - val_loss: 0.5972 - val_accuracy: 0.8066\n",
            "Epoch 13/50\n",
            "391/391 [==============================] - 6s 15ms/step - loss: 0.4022 - accuracy: 0.8584 - val_loss: 0.5866 - val_accuracy: 0.8080\n",
            "Epoch 14/50\n",
            "391/391 [==============================] - 6s 16ms/step - loss: 0.3820 - accuracy: 0.8645 - val_loss: 0.6121 - val_accuracy: 0.8069\n",
            "Epoch 15/50\n",
            "391/391 [==============================] - 6s 16ms/step - loss: 0.3661 - accuracy: 0.8711 - val_loss: 0.5998 - val_accuracy: 0.8059\n",
            "Epoch 16/50\n",
            "391/391 [==============================] - 6s 15ms/step - loss: 0.3447 - accuracy: 0.8773 - val_loss: 0.5955 - val_accuracy: 0.8144\n",
            "Epoch 17/50\n",
            "391/391 [==============================] - 6s 15ms/step - loss: 0.3239 - accuracy: 0.8842 - val_loss: 0.6109 - val_accuracy: 0.8121\n",
            "Epoch 18/50\n",
            "391/391 [==============================] - 6s 16ms/step - loss: 0.3075 - accuracy: 0.8894 - val_loss: 0.6351 - val_accuracy: 0.8105\n",
            "Epoch 19/50\n",
            "391/391 [==============================] - 6s 15ms/step - loss: 0.2962 - accuracy: 0.8945 - val_loss: 0.6523 - val_accuracy: 0.8081\n",
            "Epoch 20/50\n",
            "391/391 [==============================] - 6s 16ms/step - loss: 0.2819 - accuracy: 0.8994 - val_loss: 0.6172 - val_accuracy: 0.8176\n",
            "Epoch 21/50\n",
            "391/391 [==============================] - 6s 15ms/step - loss: 0.2731 - accuracy: 0.9020 - val_loss: 0.6756 - val_accuracy: 0.8071\n",
            "Epoch 22/50\n",
            "391/391 [==============================] - 6s 16ms/step - loss: 0.2639 - accuracy: 0.9063 - val_loss: 0.6515 - val_accuracy: 0.8125\n",
            "Epoch 23/50\n",
            "391/391 [==============================] - 6s 15ms/step - loss: 0.2505 - accuracy: 0.9099 - val_loss: 0.6653 - val_accuracy: 0.8172\n",
            "Epoch 24/50\n",
            "391/391 [==============================] - 6s 16ms/step - loss: 0.2404 - accuracy: 0.9127 - val_loss: 0.7146 - val_accuracy: 0.8048\n",
            "Epoch 25/50\n",
            "391/391 [==============================] - 6s 15ms/step - loss: 0.2329 - accuracy: 0.9171 - val_loss: 0.6884 - val_accuracy: 0.8195\n",
            "Epoch 26/50\n",
            "391/391 [==============================] - 6s 16ms/step - loss: 0.2267 - accuracy: 0.9194 - val_loss: 0.6632 - val_accuracy: 0.8197\n",
            "Epoch 27/50\n",
            "391/391 [==============================] - 6s 15ms/step - loss: 0.2235 - accuracy: 0.9217 - val_loss: 0.6995 - val_accuracy: 0.8126\n",
            "Epoch 28/50\n",
            "391/391 [==============================] - 6s 15ms/step - loss: 0.2165 - accuracy: 0.9228 - val_loss: 0.7321 - val_accuracy: 0.8099\n",
            "Epoch 29/50\n",
            "391/391 [==============================] - 6s 15ms/step - loss: 0.2092 - accuracy: 0.9256 - val_loss: 0.7499 - val_accuracy: 0.8080\n",
            "Epoch 30/50\n",
            "391/391 [==============================] - 6s 15ms/step - loss: 0.2079 - accuracy: 0.9268 - val_loss: 0.7083 - val_accuracy: 0.8166\n",
            "Epoch 31/50\n",
            "391/391 [==============================] - 6s 15ms/step - loss: 0.1962 - accuracy: 0.9306 - val_loss: 0.7026 - val_accuracy: 0.8179\n",
            "Epoch 32/50\n",
            "391/391 [==============================] - 6s 16ms/step - loss: 0.1902 - accuracy: 0.9326 - val_loss: 0.7520 - val_accuracy: 0.8158\n",
            "Epoch 33/50\n",
            "391/391 [==============================] - 6s 15ms/step - loss: 0.1915 - accuracy: 0.9315 - val_loss: 0.7065 - val_accuracy: 0.8134\n",
            "Epoch 34/50\n",
            "391/391 [==============================] - 6s 15ms/step - loss: 0.1913 - accuracy: 0.9330 - val_loss: 0.7257 - val_accuracy: 0.8091\n",
            "Epoch 35/50\n",
            "391/391 [==============================] - 6s 15ms/step - loss: 0.1800 - accuracy: 0.9374 - val_loss: 0.7326 - val_accuracy: 0.8186\n",
            "Epoch 36/50\n",
            "391/391 [==============================] - 6s 15ms/step - loss: 0.1800 - accuracy: 0.9366 - val_loss: 0.7591 - val_accuracy: 0.8148\n",
            "Epoch 37/50\n",
            "391/391 [==============================] - 6s 16ms/step - loss: 0.1753 - accuracy: 0.9395 - val_loss: 0.7327 - val_accuracy: 0.8124\n",
            "Epoch 38/50\n",
            "391/391 [==============================] - 6s 15ms/step - loss: 0.1751 - accuracy: 0.9382 - val_loss: 0.7413 - val_accuracy: 0.8175\n",
            "Epoch 39/50\n",
            "391/391 [==============================] - 6s 15ms/step - loss: 0.1751 - accuracy: 0.9393 - val_loss: 0.7360 - val_accuracy: 0.8211\n",
            "Epoch 40/50\n",
            "391/391 [==============================] - 6s 15ms/step - loss: 0.1621 - accuracy: 0.9421 - val_loss: 0.7606 - val_accuracy: 0.8223\n",
            "Epoch 41/50\n",
            "391/391 [==============================] - 6s 16ms/step - loss: 0.1675 - accuracy: 0.9406 - val_loss: 0.7959 - val_accuracy: 0.8115\n",
            "Epoch 42/50\n",
            "391/391 [==============================] - 6s 16ms/step - loss: 0.1629 - accuracy: 0.9422 - val_loss: 0.7393 - val_accuracy: 0.8221\n",
            "Epoch 43/50\n",
            "391/391 [==============================] - 6s 16ms/step - loss: 0.1588 - accuracy: 0.9446 - val_loss: 0.7597 - val_accuracy: 0.8253\n",
            "Epoch 44/50\n",
            "391/391 [==============================] - 6s 16ms/step - loss: 0.1599 - accuracy: 0.9447 - val_loss: 0.7905 - val_accuracy: 0.8170\n",
            "Epoch 45/50\n",
            "391/391 [==============================] - 6s 15ms/step - loss: 0.1500 - accuracy: 0.9477 - val_loss: 0.7895 - val_accuracy: 0.8208\n",
            "Epoch 46/50\n",
            "391/391 [==============================] - 6s 16ms/step - loss: 0.1554 - accuracy: 0.9464 - val_loss: 0.7688 - val_accuracy: 0.8210\n",
            "Epoch 47/50\n",
            "391/391 [==============================] - 6s 15ms/step - loss: 0.1488 - accuracy: 0.9472 - val_loss: 0.8035 - val_accuracy: 0.8189\n",
            "Epoch 48/50\n",
            "391/391 [==============================] - 6s 16ms/step - loss: 0.1519 - accuracy: 0.9473 - val_loss: 0.7629 - val_accuracy: 0.8227\n",
            "Epoch 49/50\n",
            "391/391 [==============================] - 6s 16ms/step - loss: 0.1465 - accuracy: 0.9494 - val_loss: 0.7728 - val_accuracy: 0.8209\n",
            "Epoch 50/50\n",
            "391/391 [==============================] - 6s 15ms/step - loss: 0.1401 - accuracy: 0.9512 - val_loss: 0.8014 - val_accuracy: 0.8181\n"
          ]
        }
      ]
    },
    {
      "cell_type": "markdown",
      "source": [
        "#PLOT ACCURACY"
      ],
      "metadata": {
        "id": "o8qa-LsLurUZ"
      }
    },
    {
      "cell_type": "code",
      "source": [
        "import matplotlib.image  as mpimg\n",
        "import matplotlib.pyplot as plt"
      ],
      "metadata": {
        "id": "qDVKriqzuvPB"
      },
      "execution_count": 13,
      "outputs": []
    },
    {
      "cell_type": "code",
      "source": [
        "acc=train.history['accuracy']\n",
        "val_acc=train.history['val_accuracy']\n",
        "\n",
        "epochs=range(len(acc)) # Get number of epochs\n",
        "\n",
        "# Plot training and validation accuracy per epoch\n",
        "plt.plot(epochs, acc, 'r', label = \"Training Accuracy\")\n",
        "plt.plot(epochs, val_acc, 'b', label = \"Validation Accuracy\")\n",
        "plt.title('Training and validation accuracy')\n",
        "plt.legend(bbox_to_anchor =(1, 1), ncol = 1)\n",
        "plt.figure()"
      ],
      "metadata": {
        "id": "_pJaXy9Su8gZ",
        "outputId": "5268b322-b267-4686-eda3-75f10c519692",
        "colab": {
          "base_uri": "https://localhost:8080/",
          "height": 487
        }
      },
      "execution_count": 19,
      "outputs": [
        {
          "output_type": "execute_result",
          "data": {
            "text/plain": [
              "<Figure size 640x480 with 0 Axes>"
            ]
          },
          "metadata": {},
          "execution_count": 19
        },
        {
          "output_type": "display_data",
          "data": {
            "text/plain": [
              "<Figure size 640x480 with 1 Axes>"
            ],
            "image/png": "[encoded data removed]"
          },
          "metadata": {}
        },
        {
          "output_type": "display_data",
          "data": {
            "text/plain": [
              "<Figure size 640x480 with 0 Axes>"
            ]
          },
          "metadata": {}
        }
      ]
    }
  ]
}